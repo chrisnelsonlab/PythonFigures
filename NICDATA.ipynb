{
  "nbformat": 4,
  "nbformat_minor": 0,
  "metadata": {
    "colab": {
      "provenance": [],
      "authorship_tag": "ABX9TyN4f8FI8v+D2IEXYUI+yAcp",
      "include_colab_link": true
    },
    "kernelspec": {
      "name": "python3",
      "display_name": "Python 3"
    },
    "language_info": {
      "name": "python"
    }
  },
  "cells": [
    {
      "cell_type": "markdown",
      "metadata": {
        "id": "view-in-github",
        "colab_type": "text"
      },
      "source": [
        "<a href=\"https://colab.research.google.com/github/chrisnelsonlab/PythonFigures/blob/master/NICDATA.ipynb\" target=\"_parent\"><img src=\"https://colab.research.google.com/assets/colab-badge.svg\" alt=\"Open In Colab\"/></a>"
      ]
    },
    {
      "cell_type": "code",
      "execution_count": null,
      "metadata": {
        "id": "ZGG_ZEyRXaLJ"
      },
      "outputs": [],
      "source": [
        "#MyoAAV vs AAV9\n",
        "\n",
        "import seaborn as sns, matplotlib.pyplot as plt\n",
        "\n",
        "import pandas as pd\n",
        "\n",
        "import pandas as pd\n",
        "\n",
        "data = {\n",
        "    'Biologicalreps': ['BR1', 'BR1', 'BR1', 'BR1', 'BR1', 'BR1', 'BR1', 'BR1', 'BR1', 'BR1', 'BR1', 'BR1',\n",
        "                       'BR2', 'BR2', 'BR2', 'BR2', 'BR2', 'BR2', 'BR2', 'BR2', 'BR2', 'BR2', 'BR2', 'BR2',\n",
        "                       'BR3', 'BR3', 'BR3', 'BR3', 'BR3', 'BR3', 'BR3', 'BR3', 'BR3', 'BR3', 'BR3', 'BR3'],\n",
        "    'Technicalreps': ['TR1', 'TR2', 'TR3', 'TR1', 'TR2', 'TR3', 'TR1', 'TR2', 'TR3', 'TR1', 'TR2', 'TR3',\n",
        "                      'TR1', 'TR2', 'TR3', 'TR1', 'TR2', 'TR3', 'TR1', 'TR2', 'TR3', 'TR1', 'TR2', 'TR3',\n",
        "                      'TR1', 'TR2', 'TR3', 'TR1', 'TR2', 'TR3', 'TR1', 'TR2', 'TR3', 'TR1', 'TR2', 'TR3'],\n",
        "    'Target gene': ['SaCas9', 'SaCas9', 'SaCas9', 'GAPDH', 'GAPDH', 'GAPDH', 'SaCas9', 'SaCas9', 'SaCas9',\n",
        "                    'GAPDH', 'GAPDH', 'GAPDH', 'SaCas9', 'SaCas9', 'SaCas9', 'GAPDH', 'GAPDH', 'GAPDH',\n",
        "                    'SaCas9', 'SaCas9', 'SaCas9', 'GAPDH', 'GAPDH', 'GAPDH', 'SaCas9', 'SaCas9', 'SaCas9',\n",
        "                    'GAPDH', 'GAPDH', 'GAPDH', 'SaCas9', 'SaCas9', 'SaCas9', 'GAPDH', 'GAPDH', 'GAPDH'],\n",
        "    'treatment': ['AAV9', 'AAV9', 'AAV9', 'AAV9', 'AAV9', 'AAV9', 'myoAAV', 'myoAAV', 'myoAAV', 'myoAAV',\n",
        "                  'myoAAV', 'myoAAV', 'AAV9', 'AAV9', 'AAV9', 'AAV9', 'AAV9', 'AAV9', 'myoAAV', 'myoAAV',\n",
        "                  'myoAAV', 'myoAAV', 'myoAAV', 'myoAAV', 'AAV9', 'AAV9', 'AAV9', 'AAV9', 'AAV9', 'AAV9',\n",
        "                  'myoAAV', 'myoAAV', 'myoAAV', 'myoAAV', 'myoAAV', 'myoAAV'],\n",
        "    'cq': [20.9788215, 21.18501716, 21.07054973, 13.28952568, 13.3080043, 13.341268, 20.0397801, 19.99438431,\n",
        "           19.86337524, 14.2183651, 14.20981514, 14.16882287, 21.92246273, 21.62289696, 21.59365202, 15.0461703,\n",
        "           15.06671242, 15.11638595, 19.41957954, 19.30086917, 19.19034442, 14.29520205, 14.329745, 14.33657169,\n",
        "           21.45352654, 21.32897425, 21.137084, 13.26218427, 13.30898449, 12.81966965, 17.56136972, 17.34179492,\n",
        "           17.35915032, 13.87984335, 13.66827746, 13.71993651]\n",
        "}\n",
        "\n",
        "df = pd.DataFrame(data)\n",
        "Control_treatment = 'AAV9'\n",
        "\n",
        "#Average Technical replicates\n",
        "averaged_df = df.groupby(['Biologicalreps', 'Target gene', 'treatment']).agg({'cq': 'mean'}).reset_index()\n",
        "\n",
        "#Calculate Average of genes for control treatment\n",
        "#AAV9 will be a NT\n",
        "# Filter the DataFrame for control treatment\n",
        "aav9_df = df[df['treatment'] == Control_treatment]\n",
        "#Calculate average cq value for control treatment\n",
        "average_cq_aav9 = aav9_df.groupby('Target gene')['cq'].mean()\n",
        "\n",
        "# Merge averaged_df with average_cq_aav9 on 'Target gene'\n",
        "merged_df = pd.merge(averaged_df, average_cq_aav9, on='Target gene', suffixes=('_avg', '_control'))\n",
        "\n",
        "# Calculate the difference between the average cq values and the average cq values for AAV9 treatment\n",
        "merged_df['cq_diff'] = merged_df['cq_avg'] - merged_df['cq_control']\n",
        "\n",
        "#Now calculate ddCT\n",
        "target_gene_1_df = merged_df[merged_df['Target gene'] == 'SaCas9']\n",
        "control_gene_df = merged_df[merged_df['Target gene'] == 'GAPDH']\n",
        "\n",
        "\n",
        "target_gene_1_df.reset_index(drop=True, inplace=True)\n",
        "control_gene_df.reset_index(drop=True, inplace=True)\n",
        "df_diff = target_gene_1_df.copy()\n",
        "df_diff[\"ddct\"] = control_gene_df[\"cq_diff\"]-target_gene_1_df[\"cq_diff\"]\n",
        "\n",
        "\n",
        "\n",
        "import numpy as np\n",
        "\n",
        "# Assuming df_diff is your DataFrame with the 'ddct' column\n",
        "df_diff[\"foldchange\"] = np.exp2(df_diff[\"ddct\"])\n",
        "\n",
        "print(df_diff)\n",
        "cols = [\"#2A3166\", \"#FF4653\"]\n",
        "sns.barplot(x='treatment', y='foldchange', data=df_diff, capsize=.4, errorbar=\"se\", palette = cols)\n",
        "sns.swarmplot(x='treatment', y='foldchange', data=df_diff, color=\"0\", alpha=.75, size = 6)\n",
        "plt.yscale('log')\n",
        "plt.show()"
      ]
    },
    {
      "cell_type": "code",
      "source": [
        "#dCas9 mouse data figure\n",
        "\n",
        "import seaborn as sns, matplotlib.pyplot as plt\n",
        "\n",
        "import pandas as pd\n",
        "#sns.set(style=\"whitegrid\")\n",
        "sns.set_style(\"ticks\")\n",
        "\n",
        "\n",
        "data = {'SOL-':[2.08432938620041, 1.36908823376579, 0.863748208799734, 0.405709381814467],'PLT-':[1.22353485437322, 0.288530581037228, 0.54502440238513, 0.150725359012488],'TA-':[0.381408333975998, 0.945779182772974, 0.738874065368998, 0.118725812364496],'H-':[5.41036420991528, 5.67718933444767, 0.235980996726815, 1.35802920370784],'LIV-':[4.61414993640284, 3.65922972976972, 2.9946088679538, 1.06916019160095],'SOL+':[1005.23401632092, 479.029995877874, 570.955522472591, 290.27532525629],'PLT+':[652.095065711224, 505.782856751452, 241.190754607909, 119.6534067536826],'TA+':[450.595911906738, 507.697036627989, 486.753008577426, 150.111540661425],'H+':[8.03433334311839, 8.43268826348682, 6.51932524599159, 3.48299263544173],'LIV+':[2.79785085633351, 3.79394525734821, 4.17440655454791, 1.9579307136862]}\n",
        "df = pd.DataFrame(data)\n",
        "\n",
        "print(df)\n",
        "cols = ['grey','grey','grey','grey','grey','steelblue','steelblue','steelblue','steelblue','steelblue']\n",
        "sns.barplot(data=df, capsize=.4, errorbar=\"sd\",palette = cols)\n",
        "sns.swarmplot(data=df, color=\"0\", alpha=.75, size = 6)\n",
        "plt.yscale('log')\n",
        "plt.show()\n"
      ],
      "metadata": {
        "id": "dGRrVpLOXkYi"
      },
      "execution_count": null,
      "outputs": []
    }
  ]
}